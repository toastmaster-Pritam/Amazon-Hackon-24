{
 "cells": [
  {
   "cell_type": "code",
   "execution_count": 1,
   "metadata": {},
   "outputs": [
    {
     "name": "stderr",
     "output_type": "stream",
     "text": [
      "c:\\Users\\Arijit Das\\Desktop\\IIT ISM\\Projects\\Amazon-Hackon-24\\amazon-hackathon-24-venv\\Lib\\site-packages\\tqdm\\auto.py:21: TqdmWarning: IProgress not found. Please update jupyter and ipywidgets. See https://ipywidgets.readthedocs.io/en/stable/user_install.html\n",
      "  from .autonotebook import tqdm as notebook_tqdm\n"
     ]
    }
   ],
   "source": [
    "import sys\n",
    "sys.path.append('..')\n",
    "from model_factory.review_classifier import Review_Classifier"
   ]
  },
  {
   "cell_type": "code",
   "execution_count": 2,
   "metadata": {},
   "outputs": [],
   "source": [
    "classifier = Review_Classifier(return_bool=False)"
   ]
  },
  {
   "cell_type": "code",
   "execution_count": 3,
   "metadata": {},
   "outputs": [],
   "source": [
    "text1 = 'This book is very intresting and adventerous. Totally worth the money.'\n",
    "text2 = 'Useful bottle.'\n",
    "text3 = 'This bottle is very useful, good capacity and convenient'\n",
    "text4 = 'This bottle is very useful, holds a lot of water and is very easy to carry. 10/10'\n",
    "text5 = 'As an AI assistant, I can say that this bottle is very useful, good capacity and convenient'"
   ]
  },
  {
   "cell_type": "code",
   "execution_count": 7,
   "metadata": {},
   "outputs": [
    {
     "name": "stdout",
     "output_type": "stream",
     "text": [
      "Review:\n",
      "This book is very intresting and adventerous. Totally worth the money.\n",
      "Label (using ML model only):\t REAL\n",
      "Label (using keywords only):\t REAL\n",
      "Label (using both):\t\t REAL\n",
      "\n",
      "Review:\n",
      "Useful bottle.\n",
      "Label (using ML model only):\t REAL\n",
      "Label (using keywords only):\t REAL\n",
      "Label (using both):\t\t REAL\n",
      "\n",
      "Review:\n",
      "This bottle is very useful, good capacity and convenient\n",
      "Label (using ML model only):\t REAL\n",
      "Label (using keywords only):\t REAL\n",
      "Label (using both):\t\t REAL\n",
      "\n",
      "Review:\n",
      "This bottle is very useful, holds a lot of water and is very easy to carry. 10/10\n",
      "Label (using ML model only):\t FAKE\n",
      "Label (using keywords only):\t REAL\n",
      "Label (using both):\t\t FAKE\n",
      "\n",
      "Review:\n",
      "As an AI assistant, I can say that this bottle is very useful, good capacity and convenient\n",
      "Label (using ML model only):\t REAL\n",
      "Label (using keywords only):\t FAKE\n",
      "Label (using both):\t\t FAKE\n",
      "\n"
     ]
    }
   ],
   "source": [
    "texts = [text1, text2, text3, text4, text5]\n",
    "for text in texts:\n",
    "    print(f\"Review:\\n{text}\")\n",
    "    \n",
    "    # Classify using ML model only\n",
    "    label = classifier.classify_with_model(text)\n",
    "    print(f\"Label (using ML model only):\\t {label}\")\n",
    "    \n",
    "    # Classify using keywords only\n",
    "    label = classifier.classify_by_keyword(text)\n",
    "    print(f\"Label (using keywords only):\\t {label}\")\n",
    "    \n",
    "    # Classify using both ML model and keywords\n",
    "    label = classifier.hybrid_classify(text)\n",
    "    print(f\"Label (using both):\\t\\t {label}\\n\")"
   ]
  }
 ],
 "metadata": {
  "kernelspec": {
   "display_name": "amazon-hackathon-24",
   "language": "python",
   "name": "python3"
  },
  "language_info": {
   "codemirror_mode": {
    "name": "ipython",
    "version": 3
   },
   "file_extension": ".py",
   "mimetype": "text/x-python",
   "name": "python",
   "nbconvert_exporter": "python",
   "pygments_lexer": "ipython3",
   "version": "3.11.5"
  }
 },
 "nbformat": 4,
 "nbformat_minor": 2
}
