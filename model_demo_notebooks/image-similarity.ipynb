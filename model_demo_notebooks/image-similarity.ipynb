{
 "cells": [
  {
   "cell_type": "markdown",
   "metadata": {},
   "source": [
    "### Use locally"
   ]
  },
  {
   "cell_type": "code",
   "execution_count": 1,
   "metadata": {},
   "outputs": [
    {
     "name": "stderr",
     "output_type": "stream",
     "text": [
      "c:\\Users\\Arijit Das\\Desktop\\IIT ISM\\Projects\\Amazon-Hackon-24\\amazon-hackathon-24-venv\\Lib\\site-packages\\tqdm\\auto.py:21: TqdmWarning: IProgress not found. Please update jupyter and ipywidgets. See https://ipywidgets.readthedocs.io/en/stable/user_install.html\n",
      "  from .autonotebook import tqdm as notebook_tqdm\n"
     ]
    }
   ],
   "source": [
    "import sys\n",
    "sys.path.append('..')\n",
    "from model_factory.image_validator import Image_Validator\n",
    "\n",
    "from IPython.display import display, HTML\n",
    "from PIL import Image as PILImage\n",
    "\n",
    "from gradio_client import Client, handle_file"
   ]
  },
  {
   "cell_type": "code",
   "execution_count": 2,
   "metadata": {},
   "outputs": [],
   "source": [
    "image_validator = Image_Validator(model_name=\"CLIP-ViT Base\")"
   ]
  },
  {
   "cell_type": "code",
   "execution_count": 3,
   "metadata": {},
   "outputs": [],
   "source": [
    "images = [\n",
    "    \"images\\chair1.jpg\",\n",
    "    \"images\\chair2.jpg\",\n",
    "    \"images\\plate1.jpg\",\n",
    "    \"images\\plate2.jpg\",\n",
    "]\n",
    "\n",
    "def display_images(image_path1, image_path2, height=300):\n",
    "    # Open the images using PIL\n",
    "    pil_image1 = PILImage.open(image_path1)\n",
    "    pil_image2 = PILImage.open(image_path2)\n",
    "    \n",
    "    # Calculate the widths to maintain the aspect ratios\n",
    "    aspect_ratio1 = pil_image1.width / pil_image1.height\n",
    "    width1 = int(height * aspect_ratio1)\n",
    "    \n",
    "    aspect_ratio2 = pil_image2.width / pil_image2.height\n",
    "    width2 = int(height * aspect_ratio2)\n",
    "    \n",
    "    # Create HTML code to display images side by side\n",
    "    html_code = f\"\"\"\n",
    "    <div style=\"display: flex; align-items: flex-start;\">\n",
    "        <img src=\"{image_path1}\" width=\"{width1}\" height=\"{height}\" style=\"margin-right: 10px;\"/>\n",
    "        <img src=\"{image_path2}\" width=\"{width2}\" height=\"{height}\"/>\n",
    "    </div>\n",
    "    \"\"\"\n",
    "    display(HTML(html_code))"
   ]
  },
  {
   "cell_type": "code",
   "execution_count": 4,
   "metadata": {},
   "outputs": [
    {
     "data": {
      "text/html": [
       "\n",
       "    <div style=\"display: flex; align-items: flex-start;\">\n",
       "        <img src=\"images\\chair1.jpg\" width=\"300\" height=\"300\" style=\"margin-right: 10px;\"/>\n",
       "        <img src=\"images\\chair2.jpg\" width=\"328\" height=\"300\"/>\n",
       "    </div>\n",
       "    "
      ],
      "text/plain": [
       "<IPython.core.display.HTML object>"
      ]
     },
     "metadata": {},
     "output_type": "display_data"
    },
    {
     "name": "stdout",
     "output_type": "stream",
     "text": [
      "Similarity score: 0.7173025608062744\n",
      "\n"
     ]
    },
    {
     "data": {
      "text/html": [
       "\n",
       "    <div style=\"display: flex; align-items: flex-start;\">\n",
       "        <img src=\"images\\chair1.jpg\" width=\"300\" height=\"300\" style=\"margin-right: 10px;\"/>\n",
       "        <img src=\"images\\plate1.jpg\" width=\"300\" height=\"300\"/>\n",
       "    </div>\n",
       "    "
      ],
      "text/plain": [
       "<IPython.core.display.HTML object>"
      ]
     },
     "metadata": {},
     "output_type": "display_data"
    },
    {
     "name": "stdout",
     "output_type": "stream",
     "text": [
      "Similarity score: 0.5759797096252441\n",
      "\n"
     ]
    },
    {
     "data": {
      "text/html": [
       "\n",
       "    <div style=\"display: flex; align-items: flex-start;\">\n",
       "        <img src=\"images\\chair1.jpg\" width=\"300\" height=\"300\" style=\"margin-right: 10px;\"/>\n",
       "        <img src=\"images\\plate2.jpg\" width=\"300\" height=\"300\"/>\n",
       "    </div>\n",
       "    "
      ],
      "text/plain": [
       "<IPython.core.display.HTML object>"
      ]
     },
     "metadata": {},
     "output_type": "display_data"
    },
    {
     "name": "stdout",
     "output_type": "stream",
     "text": [
      "Similarity score: 0.5751935839653015\n",
      "\n"
     ]
    },
    {
     "data": {
      "text/html": [
       "\n",
       "    <div style=\"display: flex; align-items: flex-start;\">\n",
       "        <img src=\"images\\chair2.jpg\" width=\"328\" height=\"300\" style=\"margin-right: 10px;\"/>\n",
       "        <img src=\"images\\plate1.jpg\" width=\"300\" height=\"300\"/>\n",
       "    </div>\n",
       "    "
      ],
      "text/plain": [
       "<IPython.core.display.HTML object>"
      ]
     },
     "metadata": {},
     "output_type": "display_data"
    },
    {
     "name": "stdout",
     "output_type": "stream",
     "text": [
      "Similarity score: 0.5195440053939819\n",
      "\n"
     ]
    },
    {
     "data": {
      "text/html": [
       "\n",
       "    <div style=\"display: flex; align-items: flex-start;\">\n",
       "        <img src=\"images\\chair2.jpg\" width=\"328\" height=\"300\" style=\"margin-right: 10px;\"/>\n",
       "        <img src=\"images\\plate2.jpg\" width=\"300\" height=\"300\"/>\n",
       "    </div>\n",
       "    "
      ],
      "text/plain": [
       "<IPython.core.display.HTML object>"
      ]
     },
     "metadata": {},
     "output_type": "display_data"
    },
    {
     "name": "stdout",
     "output_type": "stream",
     "text": [
      "Similarity score: 0.524703323841095\n",
      "\n"
     ]
    },
    {
     "data": {
      "text/html": [
       "\n",
       "    <div style=\"display: flex; align-items: flex-start;\">\n",
       "        <img src=\"images\\plate1.jpg\" width=\"300\" height=\"300\" style=\"margin-right: 10px;\"/>\n",
       "        <img src=\"images\\plate2.jpg\" width=\"300\" height=\"300\"/>\n",
       "    </div>\n",
       "    "
      ],
      "text/plain": [
       "<IPython.core.display.HTML object>"
      ]
     },
     "metadata": {},
     "output_type": "display_data"
    },
    {
     "name": "stdout",
     "output_type": "stream",
     "text": [
      "Similarity score: 0.7806744575500488\n",
      "\n"
     ]
    }
   ],
   "source": [
    "for i in range(len(images)):\n",
    "    for j in range(i+1, len(images)):\n",
    "        display_images(images[i], images[j])\n",
    "        score = image_validator.similarity_score(images[i], images[j])\n",
    "        print(f\"Similarity score: {score}\\n\")"
   ]
  },
  {
   "cell_type": "markdown",
   "metadata": {},
   "source": [
    "### Use via API"
   ]
  },
  {
   "cell_type": "code",
   "execution_count": 2,
   "metadata": {},
   "outputs": [
    {
     "name": "stdout",
     "output_type": "stream",
     "text": [
      "Loaded as API: https://thearijitdas-product-image-similarity.hf.space ✔\n"
     ]
    }
   ],
   "source": [
    "client = Client(\"theArijitDas/Product-Image-Similarity\")"
   ]
  },
  {
   "cell_type": "code",
   "execution_count": 4,
   "metadata": {},
   "outputs": [
    {
     "name": "stdout",
     "output_type": "stream",
     "text": [
      "0.7173027\n"
     ]
    }
   ],
   "source": [
    "result = client.predict(\n",
    "\t\timage_path_1=handle_file(images[0]),\n",
    "\t\timage_path_2=handle_file(images[1]),\n",
    "\t\tapi_name=\"/predict\"\n",
    ")\n",
    "print(result)"
   ]
  },
  {
   "cell_type": "code",
   "execution_count": 5,
   "metadata": {},
   "outputs": [
    {
     "name": "stdout",
     "output_type": "stream",
     "text": [
      "0.5759797\n"
     ]
    }
   ],
   "source": [
    "result = client.predict(\n",
    "\t\timage_path_1=handle_file(images[0]),\n",
    "\t\timage_path_2=handle_file(images[2]),\n",
    "\t\tapi_name=\"/predict\"\n",
    ")\n",
    "print(result)"
   ]
  }
 ],
 "metadata": {
  "kernelspec": {
   "display_name": "amazon-hackathon-24-venv",
   "language": "python",
   "name": "python3"
  },
  "language_info": {
   "codemirror_mode": {
    "name": "ipython",
    "version": 3
   },
   "file_extension": ".py",
   "mimetype": "text/x-python",
   "name": "python",
   "nbconvert_exporter": "python",
   "pygments_lexer": "ipython3",
   "version": "3.11.5"
  }
 },
 "nbformat": 4,
 "nbformat_minor": 2
}
