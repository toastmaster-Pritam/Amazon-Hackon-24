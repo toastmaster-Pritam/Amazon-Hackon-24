{
 "cells": [
  {
   "cell_type": "markdown",
   "metadata": {},
   "source": [
    "### Use locally"
   ]
  },
  {
   "cell_type": "code",
   "execution_count": 3,
   "metadata": {},
   "outputs": [
    {
     "name": "stderr",
     "output_type": "stream",
     "text": [
      "c:\\Users\\Arijit Das\\Desktop\\IIT ISM\\Projects\\Amazon-Hackon-24\\amazon-hackathon-24-venv\\Lib\\site-packages\\sentence_transformers\\cross_encoder\\CrossEncoder.py:11: TqdmWarning: IProgress not found. Please update jupyter and ipywidgets. See https://ipywidgets.readthedocs.io/en/stable/user_install.html\n",
      "  from tqdm.autonotebook import tqdm, trange\n"
     ]
    }
   ],
   "source": [
    "import sys\n",
    "sys.path.append('..')\n",
    "from model_factory.product_update_validator import Update_Validator\n",
    "from IPython.display import display, HTML\n",
    "from PIL import Image as PILImage\n",
    "\n",
    "from gradio_client import Client, handle_file"
   ]
  },
  {
   "cell_type": "code",
   "execution_count": 2,
   "metadata": {},
   "outputs": [],
   "source": [
    "update_validator = Update_Validator(text_model=\"DistilRoBERTa-v1\", image_model=\"CLIP-ViT Base\", threshold=0.75)"
   ]
  },
  {
   "cell_type": "code",
   "execution_count": 5,
   "metadata": {},
   "outputs": [],
   "source": [
    "products = [\n",
    "    {\n",
    "        'name': \"chair1\",\n",
    "        'desc': \"Transform your living space with this stylish and \\\n",
    "                elegant yellow velvet accent chair. Designed with both \\\n",
    "                comfort and aesthetics in mind, this chair features a plush, \\\n",
    "                cushioned seat and a beautifully upholstered backrest, perfect \\\n",
    "                for adding a touch of sophistication to any room. The chair's \\\n",
    "                frame is crafted from sturdy materials to ensure durability, \\\n",
    "                while the sleek, gold-toned metal legs provide a modern and luxurious \\\n",
    "                finish. Ideal for use in your living room, bedroom, or even as a chic \\\n",
    "                dining chair, this versatile piece is sure to enhance your home decor.\",\n",
    "        'image': \"images\\chair1.jpg\",\n",
    "    },\n",
    "    \n",
    "    {\n",
    "        'name': \"chair2\",\n",
    "        'desc': \"Upgrade your living space with the new and improved version of our \\\n",
    "                best-selling yellow velvet accent chair. Now featuring enhanced comfort \\\n",
    "                and durability, this stylish chair is designed to offer superior seating \\\n",
    "                experience while maintaining its chic aesthetic appeal. The upgraded chair \\\n",
    "                boasts a thicker cushioned seat and an ergonomically designed backrest for \\\n",
    "                added support and relaxation. The durable frame is reinforced with high-quality \\\n",
    "                materials, and the gold-toned metal legs now come with anti-scratch pads to \\\n",
    "                protect your floors.\",\n",
    "        'image': \"images\\chair2.jpg\",\n",
    "    },\n",
    "    \n",
    "    {\n",
    "        'name': \"plate1\",\n",
    "        'desc': \"Enhance your home decor with this exquisite handcrafted marble plate featuring a \\\n",
    "                stunning peacock design. This decorative piece is meticulously crafted by skilled \\\n",
    "                artisans, showcasing intricate hand-painted details and vibrant colors that bring \\\n",
    "                the beauty of traditional Indian art to life. The plate is made from high-quality \\\n",
    "                marble, ensuring durability and a luxurious feel. Adorned with elegant gold accents \\\n",
    "                and embedded with sparkling stones, this plate is perfect for adding a touch of \\\n",
    "                elegance to any room.\",\n",
    "        'image': \"images\\plate1.jpg\",\n",
    "    },\n",
    "    \n",
    "    {\n",
    "        'name': \"plate2\",\n",
    "        'desc': \"Experience the timeless beauty of traditional Indian craftsmanship with the updated \\\n",
    "                version of our best-selling decorative marble plate. Featuring an enhanced design with \\\n",
    "                even more intricate hand-painted details, this stunning plate showcases a magnificent \\\n",
    "                peacock in vibrant colors. The upgraded version includes reinforced marble for added \\\n",
    "                durability and a more luxurious feel. Adorned with premium gold accents and extra \\\n",
    "                sparkling stones, this plate is sure to make a statement in any space.\",\n",
    "        'image': \"images\\plate2.jpg\",\n",
    "    },\n",
    "    \n",
    "]\n",
    "\n",
    "def display_images_with_descriptions(image_path1, desc1, image_path2, desc2, height=300):\n",
    "    # Open the images using PIL\n",
    "    pil_image1 = PILImage.open(image_path1)\n",
    "    pil_image2 = PILImage.open(image_path2)\n",
    "    \n",
    "    # Calculate the widths to maintain the aspect ratios\n",
    "    aspect_ratio1 = pil_image1.width / pil_image1.height\n",
    "    width1 = int(height * aspect_ratio1)\n",
    "    \n",
    "    aspect_ratio2 = pil_image2.width / pil_image2.height\n",
    "    width2 = int(height * aspect_ratio2)\n",
    "    \n",
    "    # Create HTML code to display images side by side with descriptions below\n",
    "    html_code = f\"\"\"\n",
    "    <div style=\"display: flex; align-items: flex-start;\">\n",
    "        <div style=\"text-align: center; margin-right: 10px;\">\n",
    "            <img src=\"{image_path1}\" width=\"{width1}\" height=\"{height}\"/><br/>\n",
    "            <p>{desc1}</p>\n",
    "        </div>\n",
    "        <div style=\"text-align: center;\">\n",
    "            <img src=\"{image_path2}\" width=\"{width2}\" height=\"{height}\"/><br/>\n",
    "            <p>{desc2}</p>\n",
    "        </div>\n",
    "    </div>\n",
    "    \"\"\"\n",
    "    display(HTML(html_code))\n",
    "\n",
    "def compare(i, j):\n",
    "    display_images_with_descriptions(products[i]['image'], products[i]['desc'],\n",
    "                                     products[j]['image'], products[j]['desc'])\n",
    "    print(update_validator.validate( text1 = products[i]['desc'], text2 = products[j]['desc'],\n",
    "                                     image_path_1 = products[i]['image'], image_path_2 = products[j]['image'],\n",
    "                                     return_score=True))"
   ]
  },
  {
   "cell_type": "code",
   "execution_count": 10,
   "metadata": {},
   "outputs": [
    {
     "data": {
      "text/html": [
       "\n",
       "    <div style=\"display: flex; align-items: flex-start;\">\n",
       "        <div style=\"text-align: center; margin-right: 10px;\">\n",
       "            <img src=\"images\\chair1.jpg\" width=\"300\" height=\"300\"/><br/>\n",
       "            <p>Transform your living space with this stylish and                 elegant yellow velvet accent chair. Designed with both                 comfort and aesthetics in mind, this chair features a plush,                 cushioned seat and a beautifully upholstered backrest, perfect                 for adding a touch of sophistication to any room. The chair's                 frame is crafted from sturdy materials to ensure durability,                 while the sleek, gold-toned metal legs provide a modern and luxurious                 finish. Ideal for use in your living room, bedroom, or even as a chic                 dining chair, this versatile piece is sure to enhance your home decor.</p>\n",
       "        </div>\n",
       "        <div style=\"text-align: center;\">\n",
       "            <img src=\"images\\chair2.jpg\" width=\"328\" height=\"300\"/><br/>\n",
       "            <p>Upgrade your living space with the new and improved version of our                 best-selling yellow velvet accent chair. Now featuring enhanced comfort                 and durability, this stylish chair is designed to offer superior seating                 experience while maintaining its chic aesthetic appeal. The upgraded chair                 boasts a thicker cushioned seat and an ergonomically designed backrest for                 added support and relaxation. The durable frame is reinforced with high-quality                 materials, and the gold-toned metal legs now come with anti-scratch pads to                 protect your floors.</p>\n",
       "        </div>\n",
       "    </div>\n",
       "    "
      ],
      "text/plain": [
       "<IPython.core.display.HTML object>"
      ]
     },
     "metadata": {},
     "output_type": "display_data"
    },
    {
     "name": "stdout",
     "output_type": "stream",
     "text": [
      "{'score': 0.8571134209632874, 'label': True}\n"
     ]
    }
   ],
   "source": [
    "compare(0, 1)"
   ]
  },
  {
   "cell_type": "code",
   "execution_count": 11,
   "metadata": {},
   "outputs": [
    {
     "data": {
      "text/html": [
       "\n",
       "    <div style=\"display: flex; align-items: flex-start;\">\n",
       "        <div style=\"text-align: center; margin-right: 10px;\">\n",
       "            <img src=\"images\\plate1.jpg\" width=\"300\" height=\"300\"/><br/>\n",
       "            <p>Enhance your home decor with this exquisite handcrafted marble plate featuring a                 stunning peacock design. This decorative piece is meticulously crafted by skilled                 artisans, showcasing intricate hand-painted details and vibrant colors that bring                 the beauty of traditional Indian art to life. The plate is made from high-quality                 marble, ensuring durability and a luxurious feel. Adorned with elegant gold accents                 and embedded with sparkling stones, this plate is perfect for adding a touch of                 elegance to any room.</p>\n",
       "        </div>\n",
       "        <div style=\"text-align: center;\">\n",
       "            <img src=\"images\\plate2.jpg\" width=\"300\" height=\"300\"/><br/>\n",
       "            <p>Experience the timeless beauty of traditional Indian craftsmanship with the updated                 version of our best-selling decorative marble plate. Featuring an enhanced design with                 even more intricate hand-painted details, this stunning plate showcases a magnificent                 peacock in vibrant colors. The upgraded version includes reinforced marble for added                 durability and a more luxurious feel. Adorned with premium gold accents and extra                 sparkling stones, this plate is sure to make a statement in any space.</p>\n",
       "        </div>\n",
       "    </div>\n",
       "    "
      ],
      "text/plain": [
       "<IPython.core.display.HTML object>"
      ]
     },
     "metadata": {},
     "output_type": "display_data"
    },
    {
     "name": "stdout",
     "output_type": "stream",
     "text": [
      "{'score': 0.8676970303058624, 'label': True}\n"
     ]
    }
   ],
   "source": [
    "compare(2, 3)"
   ]
  },
  {
   "cell_type": "code",
   "execution_count": 12,
   "metadata": {},
   "outputs": [
    {
     "data": {
      "text/html": [
       "\n",
       "    <div style=\"display: flex; align-items: flex-start;\">\n",
       "        <div style=\"text-align: center; margin-right: 10px;\">\n",
       "            <img src=\"images\\chair1.jpg\" width=\"300\" height=\"300\"/><br/>\n",
       "            <p>Transform your living space with this stylish and                 elegant yellow velvet accent chair. Designed with both                 comfort and aesthetics in mind, this chair features a plush,                 cushioned seat and a beautifully upholstered backrest, perfect                 for adding a touch of sophistication to any room. The chair's                 frame is crafted from sturdy materials to ensure durability,                 while the sleek, gold-toned metal legs provide a modern and luxurious                 finish. Ideal for use in your living room, bedroom, or even as a chic                 dining chair, this versatile piece is sure to enhance your home decor.</p>\n",
       "        </div>\n",
       "        <div style=\"text-align: center;\">\n",
       "            <img src=\"images\\plate2.jpg\" width=\"300\" height=\"300\"/><br/>\n",
       "            <p>Experience the timeless beauty of traditional Indian craftsmanship with the updated                 version of our best-selling decorative marble plate. Featuring an enhanced design with                 even more intricate hand-painted details, this stunning plate showcases a magnificent                 peacock in vibrant colors. The upgraded version includes reinforced marble for added                 durability and a more luxurious feel. Adorned with premium gold accents and extra                 sparkling stones, this plate is sure to make a statement in any space.</p>\n",
       "        </div>\n",
       "    </div>\n",
       "    "
      ],
      "text/plain": [
       "<IPython.core.display.HTML object>"
      ]
     },
     "metadata": {},
     "output_type": "display_data"
    },
    {
     "name": "stdout",
     "output_type": "stream",
     "text": [
      "{'score': 0.3829614967107773, 'label': False}\n"
     ]
    }
   ],
   "source": [
    "compare(0, 3)"
   ]
  },
  {
   "cell_type": "markdown",
   "metadata": {},
   "source": [
    "### Use via API"
   ]
  },
  {
   "cell_type": "code",
   "execution_count": 7,
   "metadata": {},
   "outputs": [
    {
     "name": "stdout",
     "output_type": "stream",
     "text": [
      "Loaded as API: https://thearijitdas-product-update-validator.hf.space ✔\n"
     ]
    }
   ],
   "source": [
    "client = Client(\"theArijitDas/Product-Update-Validator\")"
   ]
  },
  {
   "cell_type": "code",
   "execution_count": 8,
   "metadata": {},
   "outputs": [
    {
     "name": "stdout",
     "output_type": "stream",
     "text": [
      "('0.8571134507656097', 'Valid')\n"
     ]
    }
   ],
   "source": [
    "result = client.predict(\n",
    "\t\ttext1=products[0]['desc'],\n",
    "\t\timage1=handle_file(products[0]['image']),\n",
    "\t\ttext2=products[1]['desc'],\n",
    "\t\timage2=handle_file(products[1]['image']),\n",
    "\t\tthreshold=0.75,\n",
    "\t\tapi_name=\"/predict\"\n",
    ")\n",
    "print(result)"
   ]
  },
  {
   "cell_type": "code",
   "execution_count": 9,
   "metadata": {},
   "outputs": [
    {
     "name": "stdout",
     "output_type": "stream",
     "text": [
      "('0.40985333919525146', 'Invalid')\n"
     ]
    }
   ],
   "source": [
    "result = client.predict(\n",
    "\t\ttext1=products[0]['desc'],\n",
    "\t\timage1=handle_file(products[0]['image']),\n",
    "\t\ttext2=products[2]['desc'],\n",
    "\t\timage2=handle_file(products[2]['image']),\n",
    "\t\tthreshold=0.75,\n",
    "\t\tapi_name=\"/predict\"\n",
    ")\n",
    "print(result)"
   ]
  }
 ],
 "metadata": {
  "kernelspec": {
   "display_name": "amazon-hackathon-24-venv",
   "language": "python",
   "name": "python3"
  },
  "language_info": {
   "codemirror_mode": {
    "name": "ipython",
    "version": 3
   },
   "file_extension": ".py",
   "mimetype": "text/x-python",
   "name": "python",
   "nbconvert_exporter": "python",
   "pygments_lexer": "ipython3",
   "version": "3.11.5"
  }
 },
 "nbformat": 4,
 "nbformat_minor": 2
}
