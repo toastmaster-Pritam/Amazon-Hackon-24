{
 "cells": [
  {
   "cell_type": "markdown",
   "metadata": {},
   "source": [
    "### Use locally"
   ]
  },
  {
   "cell_type": "code",
   "execution_count": 1,
   "metadata": {},
   "outputs": [
    {
     "name": "stderr",
     "output_type": "stream",
     "text": [
      "c:\\Users\\Arijit Das\\Desktop\\IIT ISM\\Projects\\Amazon-Hackon-24\\amazon-hackathon-24-venv\\Lib\\site-packages\\sentence_transformers\\cross_encoder\\CrossEncoder.py:11: TqdmWarning: IProgress not found. Please update jupyter and ipywidgets. See https://ipywidgets.readthedocs.io/en/stable/user_install.html\n",
      "  from tqdm.autonotebook import tqdm, trange\n"
     ]
    }
   ],
   "source": [
    "import sys\n",
    "sys.path.append('..')\n",
    "from model_factory.description_validator import Description_Validator\n",
    "\n",
    "from gradio_client import Client"
   ]
  },
  {
   "cell_type": "code",
   "execution_count": 2,
   "metadata": {},
   "outputs": [],
   "source": [
    "description_validator = Description_Validator(model_name=\"DistilRoBERTa-v1\")"
   ]
  },
  {
   "cell_type": "code",
   "execution_count": 5,
   "metadata": {},
   "outputs": [],
   "source": [
    "examples = [\n",
    "    {\n",
    "        'original desc': \"These wireless Bluetooth headphones offer superior sound quality \\\n",
    "                        and active noise cancellation, ideal for immersive music listening. \\\n",
    "                        With a sleek design and comfortable ear cushions, they provide up to \\\n",
    "                        40 hours of battery life on a single charge. Perfect for travel and daily use.\",\n",
    "                        \n",
    "        'update desc': \"Updated to wireless Bluetooth earbuds featuring enhanced noise-canceling \\\n",
    "                        technology and an extended battery life of 50 hours. These earbuds are \\\n",
    "                        designed for superior comfort and provide crisp, clear sound quality. \\\n",
    "                        Ideal for those seeking an upgrade in audio performance and longer listening sessions.\",\n",
    "                        \n",
    "        'label': 1  # 1 indicates similar update\n",
    "    },\n",
    "    {\n",
    "        'original desc': \"These running shoes are crafted with breathable mesh fabric and cushioned \\\n",
    "                        soles for maximum comfort and support during workouts. Featuring a lightweight \\\n",
    "                        design and responsive midsoles, they enhance performance and reduce fatigue. \\\n",
    "                        Ideal for runners of all levels.\",\n",
    "                        \n",
    "        'update desc': \"Changed to hiking boots with waterproof leather and rugged outsoles for \\\n",
    "                        superior traction on rough terrain. These boots prioritize durability and \\\n",
    "                        stability, catering to outdoor enthusiasts and hikers.\",\n",
    "                        \n",
    "        'label': 0  # 0 indicates very differing update\n",
    "    },\n",
    "]"
   ]
  },
  {
   "cell_type": "code",
   "execution_count": 10,
   "metadata": {},
   "outputs": [
    {
     "data": {
      "text/plain": [
       "0.8427337"
      ]
     },
     "execution_count": 10,
     "metadata": {},
     "output_type": "execute_result"
    }
   ],
   "source": [
    "description_validator.similarity_score(examples[0]['original desc'], examples[0]['update desc'])"
   ]
  },
  {
   "cell_type": "code",
   "execution_count": 11,
   "metadata": {},
   "outputs": [
    {
     "data": {
      "text/plain": [
       "0.49525693"
      ]
     },
     "execution_count": 11,
     "metadata": {},
     "output_type": "execute_result"
    }
   ],
   "source": [
    "description_validator.similarity_score(examples[1]['original desc'], examples[1]['update desc'])"
   ]
  },
  {
   "cell_type": "markdown",
   "metadata": {},
   "source": [
    "### Use via API"
   ]
  },
  {
   "cell_type": "code",
   "execution_count": 2,
   "metadata": {},
   "outputs": [
    {
     "name": "stdout",
     "output_type": "stream",
     "text": [
      "Loaded as API: https://thearijitdas-product-description-similarity.hf.space ✔\n"
     ]
    }
   ],
   "source": [
    "client = Client(\"theArijitDas/Product-Description-Similarity\")"
   ]
  },
  {
   "cell_type": "code",
   "execution_count": 6,
   "metadata": {},
   "outputs": [
    {
     "name": "stdout",
     "output_type": "stream",
     "text": [
      "0.8427338\n"
     ]
    }
   ],
   "source": [
    "result = client.predict(\n",
    "\t\tdesc1=examples[0]['original desc'],\n",
    "\t\tdesc2=examples[0]['update desc'],\n",
    "\t\tapi_name=\"/predict\"\n",
    ")\n",
    "print(result)"
   ]
  },
  {
   "cell_type": "code",
   "execution_count": 7,
   "metadata": {},
   "outputs": [
    {
     "name": "stdout",
     "output_type": "stream",
     "text": [
      "0.495257\n"
     ]
    }
   ],
   "source": [
    "result = client.predict(\n",
    "\t\tdesc1=examples[1]['original desc'],\n",
    "\t\tdesc2=examples[1]['update desc'],\n",
    "\t\tapi_name=\"/predict\"\n",
    ")\n",
    "print(result)"
   ]
  }
 ],
 "metadata": {
  "kernelspec": {
   "display_name": "amazon-hackathon-24-venv",
   "language": "python",
   "name": "python3"
  },
  "language_info": {
   "codemirror_mode": {
    "name": "ipython",
    "version": 3
   },
   "file_extension": ".py",
   "mimetype": "text/x-python",
   "name": "python",
   "nbconvert_exporter": "python",
   "pygments_lexer": "ipython3",
   "version": "3.11.5"
  }
 },
 "nbformat": 4,
 "nbformat_minor": 2
}
